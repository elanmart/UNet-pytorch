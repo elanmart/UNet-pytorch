{
 "cells": [
  {
   "cell_type": "code",
   "execution_count": null,
   "metadata": {
    "collapsed": false,
    "deletable": true,
    "editable": true
   },
   "outputs": [],
   "source": [
    "import numpy  as np\n",
    "import numpy.random as npr\n",
    "import pandas as pd\n",
    "import scipy.sparse as sp\n",
    "import cython\n",
    "\n",
    "import sklearn as skl\n",
    "import sklearn.preprocessing\n",
    "import sklearn.model_selection\n",
    "import sklearn.metrics\n",
    "\n",
    "import torch as th\n",
    "import torch.nn as nn\n",
    "from torch.autograd import Function, Variable as Var\n",
    "from torch.nn import functional as F\n",
    "\n",
    "import array\n",
    "import glob\n",
    "import gc\n",
    "import os\n",
    "import random\n",
    "import re\n",
    "import sys\n",
    "import time\n",
    "from tqdm import tqdm\n",
    "\n",
    "from plotly.offline import init_notebook_mode, plot, iplot\n",
    "from matplotlib import pyplot as plt\n",
    "\n",
    "%matplotlib inline\n",
    "%load_ext Cython\n",
    "np.random.seed(0)\n",
    "init_notebook_mode(connected=False)"
   ]
  },
  {
   "cell_type": "code",
   "execution_count": null,
   "metadata": {
    "collapsed": true,
    "deletable": true,
    "editable": true
   },
   "outputs": [],
   "source": [
    "from torch.utils import data\n",
    "from torch.utils.data import sampler\n",
    "\n",
    "from unetelan.data.preprocess import (HRFLoader, Rotate, RandomCrop, RGBConverter, ToNumpy, FeatureWiseStd, ChannelWiseStd,\n",
    "                                      Standardizer, ListDataset, collate_fn)\n",
    "from unetelan.models.unet import UNet\n",
    "from unetelan.training.config import Config"
   ]
  },
  {
   "cell_type": "code",
   "execution_count": null,
   "metadata": {
    "collapsed": false,
    "deletable": true,
    "editable": true
   },
   "outputs": [],
   "source": [
    "%%time\n",
    "X_train = th.from_numpy(np.load(\"../data-ssd/train.img.npy\"))\n",
    "Y_train = th.from_numpy(np.load(\"../data-ssd/train.msk.npy\"))\n",
    "\n",
    "X_test = th.from_numpy(np.load(\"../data-ssd/test.img.npy\"))\n",
    "Y_test = th.from_numpy(np.load(\"../data-ssd/test.msk.npy\"))"
   ]
  },
  {
   "cell_type": "code",
   "execution_count": 4,
   "metadata": {
    "collapsed": true,
    "deletable": true,
    "editable": true
   },
   "outputs": [],
   "source": [
    "dset_train = th.utils.data.TensorDataset(X_train, Y_train)\n",
    "samp_train = th.utils.data.sampler.RandomSampler(dset_train)\n",
    "\n",
    "dset_test = th.utils.data.TensorDataset(X_test, Y_test)\n",
    "samp_test = th.utils.data.sampler.SequentialSampler(dset_test)\n",
    "\n",
    "train = th.utils.data.DataLoader(dset_train, batch_size=32, sampler=samp_train, num_workers=6, collate_fn=collate_fn, pin_memory=True)\n",
    "test  = th.utils.data.DataLoader(dset_test,  batch_size=32, sampler=samp_test,  num_workers=6, collate_fn=collate_fn, pin_memory=True)"
   ]
  },
  {
   "cell_type": "code",
   "execution_count": 5,
   "metadata": {
    "collapsed": false,
    "deletable": true,
    "editable": true
   },
   "outputs": [],
   "source": [
    "cfg = Config(patch_border=0, n_classes=1, n_channels=3)"
   ]
  },
  {
   "cell_type": "code",
   "execution_count": 10,
   "metadata": {
    "collapsed": true,
    "deletable": true,
    "editable": true
   },
   "outputs": [],
   "source": [
    "model = UNet(cfg)\n",
    "loss  = nn.BCELoss()\n",
    "adam  = th.optim.Adam(model.parameters())"
   ]
  },
  {
   "cell_type": "code",
   "execution_count": 7,
   "metadata": {
    "collapsed": false,
    "deletable": true,
    "editable": true
   },
   "outputs": [
    {
     "name": "stderr",
     "output_type": "stream",
     "text": [
      "  0%|          | 0/2869 [00:00<?, ?it/s]\n"
     ]
    }
   ],
   "source": [
    "model = model.cuda()\n",
    "\n",
    "for images, masks in tqdm(train):\n",
    "    images = Var(images.cuda(async=True))\n",
    "    masks  = Var(masks.cuda(async=True))\n",
    "    \n",
    "    preds = model(images)\n",
    "    \n",
    "    loss = \n",
    "    break"
   ]
  },
  {
   "cell_type": "code",
   "execution_count": 8,
   "metadata": {
    "collapsed": false,
    "deletable": true,
    "editable": true
   },
   "outputs": [
    {
     "data": {
      "text/plain": [
       "torch.Size([32, 1, 128, 128])"
      ]
     },
     "execution_count": 8,
     "metadata": {},
     "output_type": "execute_result"
    }
   ],
   "source": [
    "preds.size()"
   ]
  },
  {
   "cell_type": "code",
   "execution_count": 9,
   "metadata": {
    "collapsed": false,
    "deletable": true,
    "editable": true
   },
   "outputs": [
    {
     "data": {
      "text/plain": [
       "torch.Size([32, 128, 128])"
      ]
     },
     "execution_count": 9,
     "metadata": {},
     "output_type": "execute_result"
    }
   ],
   "source": [
    "masks.size()"
   ]
  },
  {
   "cell_type": "code",
   "execution_count": null,
   "metadata": {
    "collapsed": true,
    "deletable": true,
    "editable": true
   },
   "outputs": [],
   "source": []
  },
  {
   "cell_type": "code",
   "execution_count": null,
   "metadata": {
    "collapsed": true,
    "deletable": true,
    "editable": true
   },
   "outputs": [],
   "source": []
  }
 ],
 "metadata": {
  "kernelspec": {
   "display_name": "Python 3",
   "language": "python",
   "name": "python3"
  },
  "language_info": {
   "codemirror_mode": {
    "name": "ipython",
    "version": 3
   },
   "file_extension": ".py",
   "mimetype": "text/x-python",
   "name": "python",
   "nbconvert_exporter": "python",
   "pygments_lexer": "ipython3",
   "version": "3.6.0"
  },
  "latex_envs": {
   "LaTeX_envs_menu_present": true,
   "autocomplete": true,
   "bibliofile": "biblio.bib",
   "cite_by": "apalike",
   "current_citInitial": 1,
   "eqLabelWithNumbers": true,
   "eqNumInitial": 1,
   "hotkeys": {
    "equation": "Ctrl-E",
    "itemize": "Ctrl-I"
   },
   "labels_anchors": false,
   "latex_user_defs": false,
   "report_style_numbering": false,
   "user_envs_cfg": false
  }
 },
 "nbformat": 4,
 "nbformat_minor": 2
}
